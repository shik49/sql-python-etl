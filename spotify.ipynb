{
 "cells": [
  {
   "cell_type": "code",
   "execution_count": 1,
   "metadata": {},
   "outputs": [],
   "source": [
    "import requests\n",
    "import pandas as pd\n",
    "import os\n",
    "import json\n",
    "import spotipy\n",
    "from spotipy.oauth2 import SpotifyClientCredentials\n",
    "import spotify_credential"
   ]
  },
  {
   "cell_type": "code",
   "execution_count": 2,
   "metadata": {},
   "outputs": [],
   "source": [
    "with open('StreamingHistory0.json') as f:\n",
    "    data = json.load(f)"
   ]
  },
  {
   "cell_type": "code",
   "execution_count": 3,
   "metadata": {},
   "outputs": [],
   "source": [
    "def auth():\n",
    "    cred = spotify_credential.oauth()\n",
    "    token = SpotifyClientCredentials(client_id=cred['client_id'], client_secret=cred['client_secret'])\n",
    "    cache_token = token.get_access_token()\n",
    "    access_token = cache_token['access_token']\n",
    "    return access_token"
   ]
  },
  {
   "cell_type": "code",
   "execution_count": 4,
   "metadata": {},
   "outputs": [],
   "source": [
    "def song_features(song_id, sp):\n",
    "    try:\n",
    "        features = sp.audio_features(song_id)\n",
    "        return features[0]['energy']\n",
    "    except Exception as e:\n",
    "        return e"
   ]
  },
  {
   "cell_type": "code",
   "execution_count": 11,
   "metadata": {},
   "outputs": [
    {
     "name": "stderr",
     "output_type": "stream",
     "text": [
      "C:\\Users\\shikh\\AppData\\Local\\Temp/ipykernel_16272/3956794922.py:4: DeprecationWarning: You're using 'as_dict = True'.get_access_token will return the token string directly in future versions. Please adjust your code accordingly, or use get_cached_token instead.\n",
      "  cache_token = token.get_access_token()\n"
     ]
    },
    {
     "data": {
      "text/plain": [
       "(285, 7)"
      ]
     },
     "execution_count": 11,
     "metadata": {},
     "output_type": "execute_result"
    }
   ],
   "source": [
    "headers = {'Authorization': f\"Bearer {auth()}\"}\n",
    "url = 'https://api.spotify.com/v1/search'\n",
    "i = 0\n",
    "sp = spotipy.Spotify(auth=auth())\n",
    "df = pd.DataFrame(columns=['Timestamp', 'Track_ID', 'Track', 'Artist_Name', 'Album', 'Energy', 'Count'])\n",
    "for item in data:\n",
    "    if 1:\n",
    "        track_name = item['trackName']\n",
    "        artist_name = item['artistName']\n",
    "        params = {'q':f\"{track_name} {artist_name}\", 'type': 'track'}\n",
    "        response = requests.get(url, headers=headers, params=params)\n",
    "        json_resp = response.json()\n",
    "        try:\n",
    "            song_id = json_resp['tracks']['items'][0]['id']\n",
    "            album = json_resp['tracks']['items'][0]['album']['name']\n",
    "            time = item['endTime']\n",
    "        except:\n",
    "            continue\n",
    "        track = track_name\n",
    "        artist_name = artist_name\n",
    "        song_energy = song_features(song_id, sp)\n",
    "        count = 0\n",
    "        for item in df['Track']:\n",
    "            if track_name == item:\n",
    "                count+=1\n",
    "                index = df.index[df['Track']==item]\n",
    "            else:\n",
    "                continue\n",
    "        if count > 0:\n",
    "            c = df.loc[index, 'Count']\n",
    "            df.loc[index, 'Count'] = c+1\n",
    "        else:\n",
    "            count = count + 1\n",
    "            df = df.append({'Timestamp': time, 'Track_ID': song_id, 'Track': track, 'Artist_Name': artist_name,\n",
    "                            'Album': album, 'Energy': song_energy, 'Count': count}, ignore_index=True)\n",
    "    # except IndexError:\n",
    "    #     break\n",
    "df.shape"
   ]
  },
  {
   "cell_type": "code",
   "execution_count": 12,
   "metadata": {},
   "outputs": [],
   "source": [
    "df.to_csv('streamingdata.csv')"
   ]
  },
  {
   "cell_type": "code",
   "execution_count": 38,
   "metadata": {},
   "outputs": [
    {
     "data": {
      "text/plain": [
       "17"
      ]
     },
     "execution_count": 38,
     "metadata": {},
     "output_type": "execute_result"
    }
   ],
   "source": [
    "arr = pd.to_datetime(df['Timestamp'])"
   ]
  },
  {
   "cell_type": "code",
   "execution_count": 127,
   "metadata": {},
   "outputs": [],
   "source": [
    "day = []\n",
    "night = []\n",
    "day_energy = []\n",
    "night_energy = []\n",
    "for i in range(len(arr)):\n",
    "    timestamp = df.at[i, 'Timestamp']\n",
    "    if 6 < arr.dt.hour[i] <= 18:\n",
    "        day.append(timestamp[:10])\n",
    "        energy = df.loc[df['Timestamp'] == timestamp, 'Energy'].tolist()[0]\n",
    "        day_energy.append(energy)\n",
    "        \n",
    "\n",
    "    if 18 < arr.dt.hour[i] <= 23 or 0 <= arr.dt.hour[i] <= 6:\n",
    "        night.append(timestamp[:10])\n",
    "        energy = df.loc[df['Timestamp'] == timestamp, 'Energy'].tolist()[0]\n",
    "        night_energy.append(energy)"
   ]
  },
  {
   "cell_type": "code",
   "execution_count": 125,
   "metadata": {},
   "outputs": [
    {
     "data": {
      "text/plain": [
       "'2020-11-11'"
      ]
     },
     "execution_count": 125,
     "metadata": {},
     "output_type": "execute_result"
    }
   ],
   "source": [
    "df.at[1, 'Timestamp'][:10]"
   ]
  },
  {
   "cell_type": "code",
   "execution_count": 130,
   "metadata": {},
   "outputs": [
    {
     "data": {
      "image/png": "[encoded data removed]",
      "text/plain": [
       "<Figure size 432x288 with 1 Axes>"
      ]
     },
     "metadata": {
      "needs_background": "light"
     },
     "output_type": "display_data"
    }
   ],
   "source": [
    "%matplotlib inline\n",
    "from matplotlib import pyplot as plt\n",
    "fig = plt.figure()\n",
    "ax1 = fig.add_subplot(111)\n",
    "\n",
    "ax1.scatter(day, day_energy, s=10, c='b', marker=\"s\", label='day')\n",
    "ax1.scatter(night, night_energy, s=10, c='r', marker=\"o\", label='night')\n",
    "plt.legend(loc='upper right');\n",
    "plt.show()"
   ]
  },
  {
   "cell_type": "code",
   "execution_count": null,
   "metadata": {},
   "outputs": [],
   "source": [
    "# extract the number of times a track playes\n",
    "# most msPlayed on a particular day\n",
    "# favourite artist "
   ]
  }
 ],
 "metadata": {
  "interpreter": {
   "hash": "63fd5069d213b44bf678585dea6b12cceca9941eaf7f819626cde1f2670de90d"
  },
  "kernelspec": {
   "display_name": "Python 3.9.5 64-bit",
   "name": "python3"
  },
  "language_info": {
   "codemirror_mode": {
    "name": "ipython",
    "version": 3
   },
   "file_extension": ".py",
   "mimetype": "text/x-python",
   "name": "python",
   "nbconvert_exporter": "python",
   "pygments_lexer": "ipython3",
   "version": "3.9.5"
  },
  "orig_nbformat": 4
 },
 "nbformat": 4,
 "nbformat_minor": 2
}
